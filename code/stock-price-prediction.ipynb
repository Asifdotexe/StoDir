{
 "cells": [
  {
   "cell_type": "code",
   "execution_count": 1,
   "metadata": {},
   "outputs": [],
   "source": [
    "import pandas as pd\n",
    "import numpy as np\n",
    "import matplotlib.pyplot as plt\n",
    "import seaborn as sns\n",
    "import yfinance as yf\n",
    "\n",
    "plt.rcParams['figure.dpi'] == 300\n",
    "sns.set_style('whitegrid')\n",
    "%matplotlib inline"
   ]
  },
  {
   "cell_type": "code",
   "execution_count": 7,
   "metadata": {},
   "outputs": [
    {
     "data": {
      "text/plain": [
       "(6157, 7)"
      ]
     },
     "execution_count": 7,
     "metadata": {},
     "output_type": "execute_result"
    }
   ],
   "source": [
    "# getting the data from yfinance\n",
    "df = yf.Ticker('AAPL').history(start=\"2000-01-01\")\n",
    "df.columns = df.columns.str.lower()\n",
    "df.shape"
   ]
  },
  {
   "cell_type": "code",
   "execution_count": 8,
   "metadata": {},
   "outputs": [
    {
     "data": {
      "text/html": [
       "<div>\n",
       "<style scoped>\n",
       "    .dataframe tbody tr th:only-of-type {\n",
       "        vertical-align: middle;\n",
       "    }\n",
       "\n",
       "    .dataframe tbody tr th {\n",
       "        vertical-align: top;\n",
       "    }\n",
       "\n",
       "    .dataframe thead th {\n",
       "        text-align: right;\n",
       "    }\n",
       "</style>\n",
       "<table border=\"1\" class=\"dataframe\">\n",
       "  <thead>\n",
       "    <tr style=\"text-align: right;\">\n",
       "      <th></th>\n",
       "      <th>open</th>\n",
       "      <th>high</th>\n",
       "      <th>low</th>\n",
       "      <th>close</th>\n",
       "      <th>volume</th>\n",
       "      <th>dividends</th>\n",
       "      <th>stock splits</th>\n",
       "    </tr>\n",
       "    <tr>\n",
       "      <th>Date</th>\n",
       "      <th></th>\n",
       "      <th></th>\n",
       "      <th></th>\n",
       "      <th></th>\n",
       "      <th></th>\n",
       "      <th></th>\n",
       "      <th></th>\n",
       "    </tr>\n",
       "  </thead>\n",
       "  <tbody>\n",
       "    <tr>\n",
       "      <th>2000-01-03 00:00:00-05:00</th>\n",
       "      <td>0.791668</td>\n",
       "      <td>0.849227</td>\n",
       "      <td>0.767607</td>\n",
       "      <td>0.844981</td>\n",
       "      <td>535796800</td>\n",
       "      <td>0.0</td>\n",
       "      <td>0.0</td>\n",
       "    </tr>\n",
       "    <tr>\n",
       "      <th>2000-01-04 00:00:00-05:00</th>\n",
       "      <td>0.817145</td>\n",
       "      <td>0.835073</td>\n",
       "      <td>0.763833</td>\n",
       "      <td>0.773741</td>\n",
       "      <td>512377600</td>\n",
       "      <td>0.0</td>\n",
       "      <td>0.0</td>\n",
       "    </tr>\n",
       "    <tr>\n",
       "      <th>2000-01-05 00:00:00-05:00</th>\n",
       "      <td>0.783176</td>\n",
       "      <td>0.834601</td>\n",
       "      <td>0.777515</td>\n",
       "      <td>0.785063</td>\n",
       "      <td>778321600</td>\n",
       "      <td>0.0</td>\n",
       "      <td>0.0</td>\n",
       "    </tr>\n",
       "    <tr>\n",
       "      <th>2000-01-06 00:00:00-05:00</th>\n",
       "      <td>0.801105</td>\n",
       "      <td>0.807709</td>\n",
       "      <td>0.717125</td>\n",
       "      <td>0.717125</td>\n",
       "      <td>767972800</td>\n",
       "      <td>0.0</td>\n",
       "      <td>0.0</td>\n",
       "    </tr>\n",
       "    <tr>\n",
       "      <th>2000-01-07 00:00:00-05:00</th>\n",
       "      <td>0.728448</td>\n",
       "      <td>0.762417</td>\n",
       "      <td>0.720900</td>\n",
       "      <td>0.751094</td>\n",
       "      <td>460734400</td>\n",
       "      <td>0.0</td>\n",
       "      <td>0.0</td>\n",
       "    </tr>\n",
       "  </tbody>\n",
       "</table>\n",
       "</div>"
      ],
      "text/plain": [
       "                               open      high       low     close     volume  \\\n",
       "Date                                                                           \n",
       "2000-01-03 00:00:00-05:00  0.791668  0.849227  0.767607  0.844981  535796800   \n",
       "2000-01-04 00:00:00-05:00  0.817145  0.835073  0.763833  0.773741  512377600   \n",
       "2000-01-05 00:00:00-05:00  0.783176  0.834601  0.777515  0.785063  778321600   \n",
       "2000-01-06 00:00:00-05:00  0.801105  0.807709  0.717125  0.717125  767972800   \n",
       "2000-01-07 00:00:00-05:00  0.728448  0.762417  0.720900  0.751094  460734400   \n",
       "\n",
       "                           dividends  stock splits  \n",
       "Date                                                \n",
       "2000-01-03 00:00:00-05:00        0.0           0.0  \n",
       "2000-01-04 00:00:00-05:00        0.0           0.0  \n",
       "2000-01-05 00:00:00-05:00        0.0           0.0  \n",
       "2000-01-06 00:00:00-05:00        0.0           0.0  \n",
       "2000-01-07 00:00:00-05:00        0.0           0.0  "
      ]
     },
     "execution_count": 8,
     "metadata": {},
     "output_type": "execute_result"
    }
   ],
   "source": [
    "df.head()"
   ]
  },
  {
   "cell_type": "markdown",
   "metadata": {},
   "source": [
    "### Inference of the features\n",
    "- Open: The price at which the stock starts trading when the market opens.\n",
    "- High: The highest price at which the stock is traded during the trading day.\n",
    "- Low: The lowest price at which the stock is traded during the trading day.\n",
    "- Close: The price at which the stock stops trading when the market closes.\n",
    "- Volume: The total number of shares traded during the trading day.\n",
    "- Dividends: Payments made to shareholders, usually from company profits, typically on a per-share basis.\n",
    "- Stock Splits: An adjustment in the number of a company’s shares, either increasing (split) or decreasing (reverse split) the number of shares, without changing the company's total market value."
   ]
  }
 ],
 "metadata": {
  "kernelspec": {
   "display_name": "venv",
   "language": "python",
   "name": "python3"
  },
  "language_info": {
   "codemirror_mode": {
    "name": "ipython",
    "version": 3
   },
   "file_extension": ".py",
   "mimetype": "text/x-python",
   "name": "python",
   "nbconvert_exporter": "python",
   "pygments_lexer": "ipython3",
   "version": "3.11.3"
  }
 },
 "nbformat": 4,
 "nbformat_minor": 2
}
